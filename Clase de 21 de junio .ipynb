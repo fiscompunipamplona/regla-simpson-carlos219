{
 "cells": [
  {
   "cell_type": "markdown",
   "metadata": {},
   "source": [
    "Método del trapezoide"
   ]
  },
  {
   "cell_type": "code",
   "execution_count": 13,
   "metadata": {},
   "outputs": [
    {
     "name": "stdout",
     "output_type": "stream",
     "text": [
      "El valor de la integral es I = 4.374130474793567\n",
      "El error es e = 0.5879437546916555\n"
     ]
    }
   ],
   "source": [
    "from numpy import*\n",
    "from pylab import*\n",
    "N=1000\n",
    "a=0\n",
    "b=2\n",
    "h=(b-a)/N\n",
    "it=0\n",
    "for k in range(1,N-1):\n",
    "    x=a+k*h\n",
    "    y=(x**4-(2*x)+1)\n",
    "    it+=h*y\n",
    "It=(h/2)*(a**4-(2*a)+1+b**4-(2*b)+1)+it\n",
    "print('El valor de la integral es I =',It)\n",
    "error=abs((1-(It)*(1/4.4)))\n",
    "print('El error es e =',error*100)"
   ]
  },
  {
   "cell_type": "markdown",
   "metadata": {},
   "source": [
    "Método del Simpson"
   ]
  },
  {
   "cell_type": "code",
   "execution_count": null,
   "metadata": {},
   "outputs": [],
   "source": [
    "import numpy as np\n",
    "import matplotlib.pyplot as plt\n",
    "\n",
    "def funcionx(x):\n",
    "    f = (x**4)-(2*x)+1\n",
    "    return(f)\n",
    "a = 0 \n",
    "b = 2\n",
    "N=100\n",
    "h = (b-a)/N\n",
    "x = a\n",
    "area = 0\n",
    "for i in range(N//2):\n",
    "    deltaA = (h/3)*(funcionx(x)+4*funcionx(x+h)+funcionx(x+2*h))\n",
    "    area = area + deltaA\n",
    "    x = x + 2*h\n",
    "\n",
    "print('Integral: ', area)\n",
    "error=abs((1-(area)*(1/4.4)))\n",
    "print('El error es e =',error*100)"
   ]
  },
  {
   "cell_type": "markdown",
   "metadata": {},
   "source": [
    "comparando los dos métodos el que mayor utlidad tiene es el de Simpson, puesto que su error más pequeño,que el valor que arroja el método del trapezoide "
   ]
  },
  {
   "cell_type": "code",
   "execution_count": 16,
   "metadata": {},
   "outputs": [
    {
     "name": "stdout",
     "output_type": "stream",
     "text": [
      "Integral:  25.464790894711808\n"
     ]
    },
    {
     "data": {
      "image/png": "[encoded data removed]",
      "text/plain": [
       "<Figure size 432x288 with 1 Axes>"
      ]
     },
     "metadata": {
      "needs_background": "light"
     },
     "output_type": "display_data"
    }
   ],
   "source": [
    "import numpy as np\n",
    "import matplotlib.pyplot as plt\n",
    "from math import*\n",
    "from pylab import*\n",
    "def funcionx(x):\n",
    "    f =(1/pi)*cos(m*x)-y*sin(x)\n",
    "    return(f)\n",
    "a=0\n",
    "b= pi \n",
    "N=int(1e3)\n",
    "h = (b-a)/N\n",
    "x =a\n",
    "area = 0\n",
    "for m in range (0,3):\n",
    "    for y in range (0,20):\n",
    "        for i in range(N//2):\n",
    "            deltaA = (h/3)*(funcionx(x)+4*funcionx(x+h)+funcionx(x+2*h))\n",
    "            area = area + deltaA\n",
    "            x = x + 2*h\n",
    "            \n",
    "print('Integral: ', area/pi)\n",
    "plot (y,x)\n",
    "show ()\n"
   ]
  },
  {
   "cell_type": "code",
   "execution_count": null,
   "metadata": {},
   "outputs": [],
   "source": []
  }
 ],
 "metadata": {
  "kernelspec": {
   "display_name": "Python 3",
   "language": "python",
   "name": "python3"
  },
  "language_info": {
   "codemirror_mode": {
    "name": "ipython",
    "version": 3
   },
   "file_extension": ".py",
   "mimetype": "text/x-python",
   "name": "python",
   "nbconvert_exporter": "python",
   "pygments_lexer": "ipython3",
   "version": "3.7.3"
  }
 },
 "nbformat": 4,
 "nbformat_minor": 2
}
